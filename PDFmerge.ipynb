{
  "nbformat": 4,
  "nbformat_minor": 0,
  "metadata": {
    "colab": {
      "provenance": []
    },
    "kernelspec": {
      "name": "python3",
      "display_name": "Python 3"
    },
    "language_info": {
      "name": "python"
    }
  },
  "cells": [
    {
      "cell_type": "markdown",
      "source": [
        "### 1) Run this cell to install necessary packages"
      ],
      "metadata": {
        "id": "9UCGOSTILNUv"
      }
    },
    {
      "cell_type": "code",
      "execution_count": null,
      "metadata": {
        "collapsed": true,
        "id": "zY9LFbih12Hm"
      },
      "outputs": [],
      "source": [
        "!pip install pdfmerge"
      ]
    },
    {
      "cell_type": "markdown",
      "source": [
        "### 2) Setup\n",
        "Go into your Google Drive and create a folder on the homepage called \"PDFmerge\". Upload the PDFs you want to merge into this folder. Then run this cell and make sure to give it access to your Drive. When the running of this cell is complete, all the files in the PDFmerge folder should be listed in the output."
      ],
      "metadata": {
        "id": "_0KNfsJrLXni"
      }
    },
    {
      "cell_type": "code",
      "source": [
        "import IPython\n",
        "from IPython.display import display, Javascript\n",
        "from pdfmerge import pdfmerge\n",
        "from google.colab import drive\n",
        "from google.colab import output\n",
        "import os\n",
        "\n",
        "drive.mount('/content/drive/')\n",
        "%cd /content/drive/MyDrive/PDFmerge\n",
        "!ls /content/drive/MyDrive/PDFmerge\n",
        "\n",
        "# List files in the specified directory\n",
        "files = os.listdir(\"/content/drive/MyDrive/PDFmerge\")\n",
        "files_save_copy = files.copy()\n"
      ],
      "metadata": {
        "id": "5Z27yNYI-ptv"
      },
      "execution_count": null,
      "outputs": []
    },
    {
      "cell_type": "markdown",
      "source": [
        "### 3) Merge order\n",
        "Run this cell to change the order in which the PDFs should be merged. The output will create a drag and drop menu for easy modifying. After that, press \"Save\". Feel free to run this cell multiple times if you're not happy with the order."
      ],
      "metadata": {
        "id": "4L34RCEJMZEN"
      }
    },
    {
      "cell_type": "code",
      "source": [
        "# Function to generate HTML for the list items\n",
        "def generate_html(pdf_list):\n",
        "    html_code = \"\"\"\n",
        "    <ul id=\"draggable-list\" style=\"list-style-type: none; padding: 0; max-width: 200px\">\n",
        "    \"\"\"\n",
        "    for item in pdf_list:\n",
        "        html_code += f'<li draggable=\"true\" ondragstart=\"drag(event)\" id=\"{item}\" style=\"padding: 5px; border: 1px solid #ddd; margin: 5px; background-color: #434343; cursor: move;\">{item}</li>'\n",
        "    html_code += \"\"\"\n",
        "    </ul>\n",
        "    <button id=\"save-button\" style=\"margin-top: 10px;\">Save</button>\n",
        "    <script>\n",
        "    var dragged;\n",
        "\n",
        "    document.addEventListener(\"drag\", function(event) {}, false);\n",
        "\n",
        "    document.addEventListener(\"dragstart\", function(event) {\n",
        "      dragged = event.target;\n",
        "      event.target.style.opacity = 0.5;\n",
        "    }, false);\n",
        "\n",
        "    document.addEventListener(\"dragend\", function(event) {\n",
        "      event.target.style.opacity = \"\";\n",
        "    }, false);\n",
        "\n",
        "    document.addEventListener(\"dragover\", function(event) {\n",
        "      event.preventDefault();\n",
        "    }, false);\n",
        "\n",
        "    document.addEventListener(\"dragenter\", function(event) {\n",
        "      if (event.target.tagName == \"LI\") {\n",
        "        event.target.style.background = \"#e0e0e0\";\n",
        "      }\n",
        "    }, false);\n",
        "\n",
        "    document.addEventListener(\"dragleave\", function(event) {\n",
        "      if (event.target.tagName == \"LI\") {\n",
        "        event.target.style.background = \"\";\n",
        "      }\n",
        "    }, false);\n",
        "\n",
        "    document.addEventListener(\"drop\", function(event) {\n",
        "      event.preventDefault();\n",
        "      if (event.target.tagName == \"LI\") {\n",
        "        event.target.style.background = \"\";\n",
        "        dragged.parentNode.removeChild(dragged);\n",
        "        event.target.parentNode.insertBefore(dragged, event.target.nextSibling);\n",
        "      }\n",
        "\n",
        "      // Save the new order silently\n",
        "      var listItems = document.getElementById('draggable-list').children;\n",
        "      var newOrder = [];\n",
        "      for (var i = 0; i < listItems.length; i++) {\n",
        "        newOrder.push(listItems[i].id);\n",
        "      }\n",
        "      google.colab.kernel.invokeFunction('notebook.SaveOrderSilently', [newOrder], {});\n",
        "    }, false);\n",
        "\n",
        "    document.getElementById('save-button').addEventListener('click', function() {\n",
        "      // Save the new order and disable drag and drop\n",
        "      var listItems = document.getElementById('draggable-list').children;\n",
        "      var newOrder = [];\n",
        "      for (var i = 0; i < listItems.length; i++) {\n",
        "        newOrder.push(listItems[i].id);\n",
        "      }\n",
        "      google.colab.kernel.invokeFunction('notebook.SaveOrderAndPrint', [newOrder], {});\n",
        "\n",
        "      // Disable drag and drop\n",
        "      var list = document.getElementById('draggable-list');\n",
        "      for (var i = 0; i < list.children.length; i++) {\n",
        "        list.children[i].setAttribute('draggable', 'false');\n",
        "        list.children[i].style.cursor = 'default';\n",
        "      }\n",
        "      document.getElementById('save-button').disabled = true;\n",
        "    });\n",
        "    </script>\n",
        "    \"\"\"\n",
        "    return html_code\n",
        "\n",
        "# Function to save the new order of items silently\n",
        "def save_order_silently(new_order):\n",
        "    global files\n",
        "    files = new_order\n",
        "    for filename in files_save_copy:\n",
        "        if filename not in files:\n",
        "            files.append(filename)\n",
        "\n",
        "# Function to save the new order of items and print the new order\n",
        "def save_order_and_print(new_order):\n",
        "    global files\n",
        "    files = new_order\n",
        "    for filename in files_save_copy:\n",
        "        if filename not in files:\n",
        "            files.append(filename)\n",
        "    output.clear()\n",
        "    print(\"File merge order:\\n\")\n",
        "    for i, filename in enumerate(files):\n",
        "      print((str(i+1) +\")\").rjust(5, \" \"), filename)\n",
        "\n",
        "\n",
        "# Register the functions to be called from JavaScript\n",
        "from google.colab import output\n",
        "output.register_callback('notebook.SaveOrderSilently', save_order_silently)\n",
        "output.register_callback('notebook.SaveOrderAndPrint', save_order_and_print)\n",
        "\n",
        "# Display the draggable list\n",
        "html_code = generate_html(files)\n",
        "display(IPython.display.HTML(html_code))\n"
      ],
      "metadata": {
        "id": "_jjfeOwX2p2j"
      },
      "execution_count": null,
      "outputs": []
    },
    {
      "cell_type": "markdown",
      "source": [
        "### 4) Merge the files\n",
        "\n",
        "Run the code to enter the file name of the merged PDFs. Press enter and the merging process will start. The merged file can be found in the PDFmerge folder under the name you entered."
      ],
      "metadata": {
        "id": "JGCT_jqWM9bA"
      }
    },
    {
      "cell_type": "code",
      "source": [
        "merged_filename = str(input())\n",
        "pdfmerge(files, merged_filename + \".pdf\")"
      ],
      "metadata": {
        "id": "OR0RCYLGNltG"
      },
      "execution_count": null,
      "outputs": []
    }
  ]
}